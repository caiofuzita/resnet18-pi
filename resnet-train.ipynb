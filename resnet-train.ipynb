{
 "cells": [
  {
   "cell_type": "markdown",
   "metadata": {},
   "source": [
    "# Tratamento de arquivos do padrão YOLO para o RESNET"
   ]
  },
  {
   "cell_type": "code",
   "execution_count": 9,
   "metadata": {},
   "outputs": [
    {
     "name": "stdout",
     "output_type": "stream",
     "text": [
      "Imagem correspondente não encontrada para: 1003.txt\n",
      "Imagem correspondente não encontrada para: 1014.txt\n",
      "Imagem correspondente não encontrada para: 1015.txt\n",
      "Imagem correspondente não encontrada para: 1020.txt\n",
      "Imagem correspondente não encontrada para: 1021.txt\n",
      "Imagem correspondente não encontrada para: 1023.txt\n",
      "Imagem correspondente não encontrada para: 1026.txt\n",
      "Imagem correspondente não encontrada para: 1027.txt\n",
      "Imagem correspondente não encontrada para: 1028.txt\n",
      "Imagem correspondente não encontrada para: 1029.txt\n",
      "Imagem correspondente não encontrada para: 1032.txt\n",
      "Imagem correspondente não encontrada para: 1034.txt\n",
      "Imagem correspondente não encontrada para: 1040.txt\n",
      "Imagem correspondente não encontrada para: 1043.txt\n",
      "Imagem correspondente não encontrada para: 1045.txt\n",
      "Imagem correspondente não encontrada para: 1047.txt\n",
      "Imagem correspondente não encontrada para: 1048.txt\n",
      "Imagem correspondente não encontrada para: 1052.txt\n",
      "Imagem correspondente não encontrada para: 1054.txt\n",
      "Imagem correspondente não encontrada para: 1055.txt\n",
      "Imagem correspondente não encontrada para: 1058.txt\n",
      "Imagem correspondente não encontrada para: 1065.txt\n",
      "Imagem correspondente não encontrada para: 1069.txt\n",
      "Imagem correspondente não encontrada para: 1071.txt\n",
      "Imagem correspondente não encontrada para: 1079.txt\n",
      "Imagem correspondente não encontrada para: 1081.txt\n",
      "Imagem correspondente não encontrada para: 1089.txt\n",
      "Imagem correspondente não encontrada para: 109.txt\n",
      "Imagem correspondente não encontrada para: 1093.txt\n",
      "Imagem correspondente não encontrada para: 1095.txt\n",
      "Imagem correspondente não encontrada para: 110.txt\n",
      "Imagem correspondente não encontrada para: 1101.txt\n",
      "Imagem correspondente não encontrada para: 1104.txt\n",
      "Imagem correspondente não encontrada para: 1111.txt\n",
      "Imagem correspondente não encontrada para: 1112.txt\n",
      "Imagem correspondente não encontrada para: 1113.txt\n",
      "Imagem correspondente não encontrada para: 1116.txt\n",
      "Imagem correspondente não encontrada para: 1119.txt\n",
      "Imagem correspondente não encontrada para: 1122.txt\n",
      "Imagem correspondente não encontrada para: 1123.txt\n",
      "Imagem correspondente não encontrada para: 1125.txt\n",
      "Imagem correspondente não encontrada para: 1133.txt\n",
      "Imagem correspondente não encontrada para: 1137.txt\n",
      "Imagem correspondente não encontrada para: 1138.txt\n",
      "Imagem correspondente não encontrada para: 1145.txt\n",
      "Imagem correspondente não encontrada para: 1154.txt\n",
      "Imagem correspondente não encontrada para: 1158.txt\n",
      "Imagem correspondente não encontrada para: 116.txt\n",
      "Imagem correspondente não encontrada para: 1160.txt\n",
      "Imagem correspondente não encontrada para: 1171.txt\n",
      "Imagem correspondente não encontrada para: 1174.txt\n",
      "Imagem correspondente não encontrada para: 1176.txt\n",
      "Imagem correspondente não encontrada para: 118.txt\n",
      "Imagem correspondente não encontrada para: 1186.txt\n",
      "Imagem correspondente não encontrada para: 1187.txt\n",
      "Imagem correspondente não encontrada para: 1195.txt\n",
      "Imagem correspondente não encontrada para: 12.txt\n",
      "Imagem correspondente não encontrada para: 1206.txt\n",
      "Imagem correspondente não encontrada para: 1207.txt\n",
      "Imagem correspondente não encontrada para: 1209.txt\n",
      "Imagem correspondente não encontrada para: 1217.txt\n",
      "Imagem correspondente não encontrada para: 1232.txt\n",
      "Imagem correspondente não encontrada para: 1239.txt\n",
      "Imagem correspondente não encontrada para: 124.txt\n",
      "Imagem correspondente não encontrada para: 1245.txt\n",
      "Imagem correspondente não encontrada para: 1251.txt\n",
      "Imagem correspondente não encontrada para: 1253.txt\n",
      "Imagem correspondente não encontrada para: 1256.txt\n",
      "Imagem correspondente não encontrada para: 126.txt\n",
      "Imagem correspondente não encontrada para: 1269.txt\n",
      "Imagem correspondente não encontrada para: 127.txt\n",
      "Imagem correspondente não encontrada para: 1278.txt\n",
      "Imagem correspondente não encontrada para: 1280.txt\n",
      "Imagem correspondente não encontrada para: 1281.txt\n",
      "Imagem correspondente não encontrada para: 1287.txt\n",
      "Imagem correspondente não encontrada para: 1290.txt\n",
      "Imagem correspondente não encontrada para: 1295.txt\n",
      "Imagem correspondente não encontrada para: 1300.txt\n",
      "Imagem correspondente não encontrada para: 1302.txt\n",
      "Imagem correspondente não encontrada para: 1310.txt\n",
      "Imagem correspondente não encontrada para: 1311.txt\n",
      "Imagem correspondente não encontrada para: 1315.txt\n",
      "Imagem correspondente não encontrada para: 1320.txt\n",
      "Imagem correspondente não encontrada para: 1323.txt\n",
      "Imagem correspondente não encontrada para: 1329.txt\n",
      "Imagem correspondente não encontrada para: 133.txt\n",
      "Imagem correspondente não encontrada para: 1333.txt\n",
      "Imagem correspondente não encontrada para: 1337.txt\n",
      "Imagem correspondente não encontrada para: 1338.txt\n",
      "Imagem correspondente não encontrada para: 1339.txt\n",
      "Imagem correspondente não encontrada para: 1342.txt\n",
      "Imagem correspondente não encontrada para: 1344.txt\n",
      "Imagem correspondente não encontrada para: 1345.txt\n",
      "Imagem correspondente não encontrada para: 1352.txt\n",
      "Imagem correspondente não encontrada para: 1357.txt\n",
      "Imagem correspondente não encontrada para: 1382.txt\n",
      "Imagem correspondente não encontrada para: 888.txt\n",
      "Imagem correspondente não encontrada para: 908.txt\n",
      "Imagem correspondente não encontrada para: 921.txt\n",
      "Imagem correspondente não encontrada para: 923.txt\n",
      "Imagem correspondente não encontrada para: 925.txt\n",
      "Imagem correspondente não encontrada para: 954.txt\n",
      "Imagem correspondente não encontrada para: 998.txt\n",
      "Imagem correspondente não encontrada para: 999.txt\n",
      "Conversão concluída!\n"
     ]
    }
   ],
   "source": [
    "import os\n",
    "import shutil\n",
    "\n",
    "# Diretórios principais\n",
    "yolo_dataset_dir = \"./images\"  # Diretório contendo imagens e anotações\n",
    "output_dir = \"./train\"  # Diretório onde o novo dataset será salvo\n",
    "\n",
    "# Criar o diretório de saída, se não existir\n",
    "os.makedirs(output_dir, exist_ok=True)\n",
    "\n",
    "# Listar arquivos do dataset YOLO\n",
    "for annotation_file in os.listdir(yolo_dataset_dir):\n",
    "    if annotation_file.endswith(\".txt\"):  # Somente os arquivos de anotação\n",
    "        annotation_path = os.path.join(yolo_dataset_dir, annotation_file)\n",
    "        \n",
    "        # Ler a anotação\n",
    "        with open(annotation_path, \"r\") as file:\n",
    "            lines = file.readlines()\n",
    "        \n",
    "        # Ignorar arquivos sem anotações\n",
    "        if not lines:\n",
    "            continue\n",
    "        \n",
    "        # Usar a classe da primeira linha como rótulo principal\n",
    "        class_id = lines[0].split()[0]  # Pega a primeira classe\n",
    "        \n",
    "        # Criar o diretório da classe, se não existir\n",
    "        class_dir = os.path.join(output_dir, f\"class_{class_id}\")\n",
    "        os.makedirs(class_dir, exist_ok=True)\n",
    "        \n",
    "        # Localizar a imagem correspondente\n",
    "        image_file = annotation_file.replace(\".txt\", \".jpg\")\n",
    "        image_path = os.path.join(yolo_dataset_dir, image_file)\n",
    "        \n",
    "        if os.path.exists(image_path):\n",
    "            # Copiar a imagem para o diretório da classe\n",
    "            shutil.copy(image_path, os.path.join(class_dir, image_file))\n",
    "        else:\n",
    "            print(f\"Imagem correspondente não encontrada para: {annotation_file}\")\n",
    "\n",
    "print(\"Conversão concluída!\")\n"
   ]
  },
  {
   "cell_type": "code",
   "execution_count": 1,
   "metadata": {},
   "outputs": [],
   "source": [
    "import torch\n",
    "import torch.nn as nn\n",
    "import torch.optim as optim\n",
    "from torchvision import datasets, transforms, models\n",
    "from torch.utils.data import DataLoader, random_split"
   ]
  },
  {
   "cell_type": "markdown",
   "metadata": {},
   "source": [
    "Configurações básicas"
   ]
  },
  {
   "cell_type": "code",
   "execution_count": 2,
   "metadata": {},
   "outputs": [],
   "source": [
    "device = torch.device(\"dml\") if torch.cuda.is_available() else torch.device(\"cpu\")\n",
    "batch_size = 32\n",
    "num_epochs = 10\n",
    "learning_rate = 0.001\n",
    "val_ratio = 0.2"
   ]
  },
  {
   "cell_type": "markdown",
   "metadata": {},
   "source": [
    "Transformação dos dados"
   ]
  },
  {
   "cell_type": "code",
   "execution_count": 3,
   "metadata": {},
   "outputs": [],
   "source": [
    "transform = transforms.Compose([\n",
    "    transforms.Resize((224, 224)),\n",
    "    transforms.ToTensor(),\n",
    "    transforms.Normalize(mean=[0.485, 0.456, 0.406], std=[0.229, 0.224, 0.225])\n",
    "])"
   ]
  },
  {
   "cell_type": "markdown",
   "metadata": {},
   "source": [
    "Carregar os dados"
   ]
  },
  {
   "cell_type": "code",
   "execution_count": 4,
   "metadata": {},
   "outputs": [
    {
     "ename": "FileNotFoundError",
     "evalue": "[WinError 3] The system cannot find the path specified: ''",
     "output_type": "error",
     "traceback": [
      "\u001b[1;31m---------------------------------------------------------------------------\u001b[0m",
      "\u001b[1;31mFileNotFoundError\u001b[0m                         Traceback (most recent call last)",
      "Cell \u001b[1;32mIn[4], line 1\u001b[0m\n\u001b[1;32m----> 1\u001b[0m dataset \u001b[38;5;241m=\u001b[39m \u001b[43mdatasets\u001b[49m\u001b[38;5;241;43m.\u001b[39;49m\u001b[43mImageFolder\u001b[49m\u001b[43m(\u001b[49m\u001b[38;5;124;43m\"\u001b[39;49m\u001b[38;5;124;43m\"\u001b[39;49m\u001b[43m,\u001b[49m\u001b[43m \u001b[49m\u001b[43mtransform\u001b[49m\u001b[38;5;241;43m=\u001b[39;49m\u001b[43mtransform\u001b[49m\u001b[43m)\u001b[49m\n",
      "File \u001b[1;32mc:\\Users\\Caio Fuzita\\AppData\\Local\\Programs\\Python\\Python311\\Lib\\site-packages\\torchvision\\datasets\\folder.py:328\u001b[0m, in \u001b[0;36mImageFolder.__init__\u001b[1;34m(self, root, transform, target_transform, loader, is_valid_file, allow_empty)\u001b[0m\n\u001b[0;32m    319\u001b[0m \u001b[38;5;28;01mdef\u001b[39;00m \u001b[38;5;21m__init__\u001b[39m(\n\u001b[0;32m    320\u001b[0m     \u001b[38;5;28mself\u001b[39m,\n\u001b[0;32m    321\u001b[0m     root: \u001b[38;5;28mstr\u001b[39m,\n\u001b[1;32m   (...)\u001b[0m\n\u001b[0;32m    326\u001b[0m     allow_empty: \u001b[38;5;28mbool\u001b[39m \u001b[38;5;241m=\u001b[39m \u001b[38;5;28;01mFalse\u001b[39;00m,\n\u001b[0;32m    327\u001b[0m ):\n\u001b[1;32m--> 328\u001b[0m     \u001b[38;5;28;43msuper\u001b[39;49m\u001b[43m(\u001b[49m\u001b[43m)\u001b[49m\u001b[38;5;241;43m.\u001b[39;49m\u001b[38;5;21;43m__init__\u001b[39;49m\u001b[43m(\u001b[49m\n\u001b[0;32m    329\u001b[0m \u001b[43m        \u001b[49m\u001b[43mroot\u001b[49m\u001b[43m,\u001b[49m\n\u001b[0;32m    330\u001b[0m \u001b[43m        \u001b[49m\u001b[43mloader\u001b[49m\u001b[43m,\u001b[49m\n\u001b[0;32m    331\u001b[0m \u001b[43m        \u001b[49m\u001b[43mIMG_EXTENSIONS\u001b[49m\u001b[43m \u001b[49m\u001b[38;5;28;43;01mif\u001b[39;49;00m\u001b[43m \u001b[49m\u001b[43mis_valid_file\u001b[49m\u001b[43m \u001b[49m\u001b[38;5;129;43;01mis\u001b[39;49;00m\u001b[43m \u001b[49m\u001b[38;5;28;43;01mNone\u001b[39;49;00m\u001b[43m \u001b[49m\u001b[38;5;28;43;01melse\u001b[39;49;00m\u001b[43m \u001b[49m\u001b[38;5;28;43;01mNone\u001b[39;49;00m\u001b[43m,\u001b[49m\n\u001b[0;32m    332\u001b[0m \u001b[43m        \u001b[49m\u001b[43mtransform\u001b[49m\u001b[38;5;241;43m=\u001b[39;49m\u001b[43mtransform\u001b[49m\u001b[43m,\u001b[49m\n\u001b[0;32m    333\u001b[0m \u001b[43m        \u001b[49m\u001b[43mtarget_transform\u001b[49m\u001b[38;5;241;43m=\u001b[39;49m\u001b[43mtarget_transform\u001b[49m\u001b[43m,\u001b[49m\n\u001b[0;32m    334\u001b[0m \u001b[43m        \u001b[49m\u001b[43mis_valid_file\u001b[49m\u001b[38;5;241;43m=\u001b[39;49m\u001b[43mis_valid_file\u001b[49m\u001b[43m,\u001b[49m\n\u001b[0;32m    335\u001b[0m \u001b[43m        \u001b[49m\u001b[43mallow_empty\u001b[49m\u001b[38;5;241;43m=\u001b[39;49m\u001b[43mallow_empty\u001b[49m\u001b[43m,\u001b[49m\n\u001b[0;32m    336\u001b[0m \u001b[43m    \u001b[49m\u001b[43m)\u001b[49m\n\u001b[0;32m    337\u001b[0m     \u001b[38;5;28mself\u001b[39m\u001b[38;5;241m.\u001b[39mimgs \u001b[38;5;241m=\u001b[39m \u001b[38;5;28mself\u001b[39m\u001b[38;5;241m.\u001b[39msamples\n",
      "File \u001b[1;32mc:\\Users\\Caio Fuzita\\AppData\\Local\\Programs\\Python\\Python311\\Lib\\site-packages\\torchvision\\datasets\\folder.py:149\u001b[0m, in \u001b[0;36mDatasetFolder.__init__\u001b[1;34m(self, root, loader, extensions, transform, target_transform, is_valid_file, allow_empty)\u001b[0m\n\u001b[0;32m    138\u001b[0m \u001b[38;5;28;01mdef\u001b[39;00m \u001b[38;5;21m__init__\u001b[39m(\n\u001b[0;32m    139\u001b[0m     \u001b[38;5;28mself\u001b[39m,\n\u001b[0;32m    140\u001b[0m     root: Union[\u001b[38;5;28mstr\u001b[39m, Path],\n\u001b[1;32m   (...)\u001b[0m\n\u001b[0;32m    146\u001b[0m     allow_empty: \u001b[38;5;28mbool\u001b[39m \u001b[38;5;241m=\u001b[39m \u001b[38;5;28;01mFalse\u001b[39;00m,\n\u001b[0;32m    147\u001b[0m ) \u001b[38;5;241m-\u001b[39m\u001b[38;5;241m>\u001b[39m \u001b[38;5;28;01mNone\u001b[39;00m:\n\u001b[0;32m    148\u001b[0m     \u001b[38;5;28msuper\u001b[39m()\u001b[38;5;241m.\u001b[39m\u001b[38;5;21m__init__\u001b[39m(root, transform\u001b[38;5;241m=\u001b[39mtransform, target_transform\u001b[38;5;241m=\u001b[39mtarget_transform)\n\u001b[1;32m--> 149\u001b[0m     classes, class_to_idx \u001b[38;5;241m=\u001b[39m \u001b[38;5;28;43mself\u001b[39;49m\u001b[38;5;241;43m.\u001b[39;49m\u001b[43mfind_classes\u001b[49m\u001b[43m(\u001b[49m\u001b[38;5;28;43mself\u001b[39;49m\u001b[38;5;241;43m.\u001b[39;49m\u001b[43mroot\u001b[49m\u001b[43m)\u001b[49m\n\u001b[0;32m    150\u001b[0m     samples \u001b[38;5;241m=\u001b[39m \u001b[38;5;28mself\u001b[39m\u001b[38;5;241m.\u001b[39mmake_dataset(\n\u001b[0;32m    151\u001b[0m         \u001b[38;5;28mself\u001b[39m\u001b[38;5;241m.\u001b[39mroot,\n\u001b[0;32m    152\u001b[0m         class_to_idx\u001b[38;5;241m=\u001b[39mclass_to_idx,\n\u001b[1;32m   (...)\u001b[0m\n\u001b[0;32m    155\u001b[0m         allow_empty\u001b[38;5;241m=\u001b[39mallow_empty,\n\u001b[0;32m    156\u001b[0m     )\n\u001b[0;32m    158\u001b[0m     \u001b[38;5;28mself\u001b[39m\u001b[38;5;241m.\u001b[39mloader \u001b[38;5;241m=\u001b[39m loader\n",
      "File \u001b[1;32mc:\\Users\\Caio Fuzita\\AppData\\Local\\Programs\\Python\\Python311\\Lib\\site-packages\\torchvision\\datasets\\folder.py:234\u001b[0m, in \u001b[0;36mDatasetFolder.find_classes\u001b[1;34m(self, directory)\u001b[0m\n\u001b[0;32m    207\u001b[0m \u001b[38;5;28;01mdef\u001b[39;00m \u001b[38;5;21mfind_classes\u001b[39m(\u001b[38;5;28mself\u001b[39m, directory: Union[\u001b[38;5;28mstr\u001b[39m, Path]) \u001b[38;5;241m-\u001b[39m\u001b[38;5;241m>\u001b[39m Tuple[List[\u001b[38;5;28mstr\u001b[39m], Dict[\u001b[38;5;28mstr\u001b[39m, \u001b[38;5;28mint\u001b[39m]]:\n\u001b[0;32m    208\u001b[0m \u001b[38;5;250m    \u001b[39m\u001b[38;5;124;03m\"\"\"Find the class folders in a dataset structured as follows::\u001b[39;00m\n\u001b[0;32m    209\u001b[0m \n\u001b[0;32m    210\u001b[0m \u001b[38;5;124;03m        directory/\u001b[39;00m\n\u001b[1;32m   (...)\u001b[0m\n\u001b[0;32m    232\u001b[0m \u001b[38;5;124;03m        (Tuple[List[str], Dict[str, int]]): List of all classes and dictionary mapping each class to an index.\u001b[39;00m\n\u001b[0;32m    233\u001b[0m \u001b[38;5;124;03m    \"\"\"\u001b[39;00m\n\u001b[1;32m--> 234\u001b[0m     \u001b[38;5;28;01mreturn\u001b[39;00m \u001b[43mfind_classes\u001b[49m\u001b[43m(\u001b[49m\u001b[43mdirectory\u001b[49m\u001b[43m)\u001b[49m\n",
      "File \u001b[1;32mc:\\Users\\Caio Fuzita\\AppData\\Local\\Programs\\Python\\Python311\\Lib\\site-packages\\torchvision\\datasets\\folder.py:41\u001b[0m, in \u001b[0;36mfind_classes\u001b[1;34m(directory)\u001b[0m\n\u001b[0;32m     36\u001b[0m \u001b[38;5;28;01mdef\u001b[39;00m \u001b[38;5;21mfind_classes\u001b[39m(directory: Union[\u001b[38;5;28mstr\u001b[39m, Path]) \u001b[38;5;241m-\u001b[39m\u001b[38;5;241m>\u001b[39m Tuple[List[\u001b[38;5;28mstr\u001b[39m], Dict[\u001b[38;5;28mstr\u001b[39m, \u001b[38;5;28mint\u001b[39m]]:\n\u001b[0;32m     37\u001b[0m \u001b[38;5;250m    \u001b[39m\u001b[38;5;124;03m\"\"\"Finds the class folders in a dataset.\u001b[39;00m\n\u001b[0;32m     38\u001b[0m \n\u001b[0;32m     39\u001b[0m \u001b[38;5;124;03m    See :class:`DatasetFolder` for details.\u001b[39;00m\n\u001b[0;32m     40\u001b[0m \u001b[38;5;124;03m    \"\"\"\u001b[39;00m\n\u001b[1;32m---> 41\u001b[0m     classes \u001b[38;5;241m=\u001b[39m \u001b[38;5;28msorted\u001b[39m(entry\u001b[38;5;241m.\u001b[39mname \u001b[38;5;28;01mfor\u001b[39;00m entry \u001b[38;5;129;01min\u001b[39;00m \u001b[43mos\u001b[49m\u001b[38;5;241;43m.\u001b[39;49m\u001b[43mscandir\u001b[49m\u001b[43m(\u001b[49m\u001b[43mdirectory\u001b[49m\u001b[43m)\u001b[49m \u001b[38;5;28;01mif\u001b[39;00m entry\u001b[38;5;241m.\u001b[39mis_dir())\n\u001b[0;32m     42\u001b[0m     \u001b[38;5;28;01mif\u001b[39;00m \u001b[38;5;129;01mnot\u001b[39;00m classes:\n\u001b[0;32m     43\u001b[0m         \u001b[38;5;28;01mraise\u001b[39;00m \u001b[38;5;167;01mFileNotFoundError\u001b[39;00m(\u001b[38;5;124mf\u001b[39m\u001b[38;5;124m\"\u001b[39m\u001b[38;5;124mCouldn\u001b[39m\u001b[38;5;124m'\u001b[39m\u001b[38;5;124mt find any class folder in \u001b[39m\u001b[38;5;132;01m{\u001b[39;00mdirectory\u001b[38;5;132;01m}\u001b[39;00m\u001b[38;5;124m.\u001b[39m\u001b[38;5;124m\"\u001b[39m)\n",
      "\u001b[1;31mFileNotFoundError\u001b[0m: [WinError 3] The system cannot find the path specified: ''"
     ]
    }
   ],
   "source": [
    "dataset = datasets.ImageFolder(\"\", transform=transform)"
   ]
  }
 ],
 "metadata": {
  "kernelspec": {
   "display_name": "Python 3",
   "language": "python",
   "name": "python3"
  },
  "language_info": {
   "codemirror_mode": {
    "name": "ipython",
    "version": 3
   },
   "file_extension": ".py",
   "mimetype": "text/x-python",
   "name": "python",
   "nbconvert_exporter": "python",
   "pygments_lexer": "ipython3",
   "version": "3.11.9"
  }
 },
 "nbformat": 4,
 "nbformat_minor": 2
}
